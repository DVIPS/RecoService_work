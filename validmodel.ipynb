{
 "cells": [
  {
   "cell_type": "code",
   "execution_count": 1,
   "metadata": {},
   "outputs": [
    {
     "name": "stdout",
     "output_type": "stream",
     "text": [
      "Requirement already satisfied: rectools in c:\\programdata\\anaconda3\\lib\\site-packages (0.4.1)\n",
      "Requirement already satisfied: numpy<2.0.0,>=1.19.5 in c:\\programdata\\anaconda3\\lib\\site-packages (from rectools) (1.20.3)\n",
      "Requirement already satisfied: pandas<2.0.0,>=0.25.3 in c:\\programdata\\anaconda3\\lib\\site-packages (from rectools) (1.3.4)\n",
      "Requirement already satisfied: attrs<24.0.0,>=19.1.0 in c:\\programdata\\anaconda3\\lib\\site-packages (from rectools) (21.2.0)\n",
      "Requirement already satisfied: scipy<2.0.0,>=1.5.4 in c:\\programdata\\anaconda3\\lib\\site-packages (from rectools) (1.7.1)\n",
      "Requirement already satisfied: typeguard<3.0.0,>=2.0.1 in c:\\programdata\\anaconda3\\lib\\site-packages (from rectools) (2.13.3)\n",
      "Requirement already satisfied: tqdm<5.0.0,>=4.27.0 in c:\\programdata\\anaconda3\\lib\\site-packages (from rectools) (4.62.3)\n",
      "Requirement already satisfied: implicit<0.8.0,>=0.7.1 in c:\\programdata\\anaconda3\\lib\\site-packages (from rectools) (0.7.2)\n",
      "Requirement already satisfied: threadpoolctl in c:\\programdata\\anaconda3\\lib\\site-packages (from implicit<0.8.0,>=0.7.1->rectools) (2.2.0)\n",
      "Requirement already satisfied: python-dateutil>=2.7.3 in c:\\programdata\\anaconda3\\lib\\site-packages (from pandas<2.0.0,>=0.25.3->rectools) (2.8.2)\n",
      "Requirement already satisfied: pytz>=2017.3 in c:\\programdata\\anaconda3\\lib\\site-packages (from pandas<2.0.0,>=0.25.3->rectools) (2021.3)\n",
      "Requirement already satisfied: six>=1.5 in c:\\programdata\\anaconda3\\lib\\site-packages (from python-dateutil>=2.7.3->pandas<2.0.0,>=0.25.3->rectools) (1.16.0)\n",
      "Requirement already satisfied: colorama in c:\\programdata\\anaconda3\\lib\\site-packages (from tqdm<5.0.0,>=4.27.0->rectools) (0.4.4)\n"
     ]
    }
   ],
   "source": [
    "! pip install rectools"
   ]
  },
  {
   "cell_type": "code",
   "execution_count": 2,
   "metadata": {},
   "outputs": [],
   "source": [
    "import pandas as pd\n",
    "import numpy as np\n",
    "from copy import deepcopy\n",
    "from rectools.model_selection import TimeRangeSplitter\n",
    "from rectools import Columns\n",
    "from rectools.dataset import Dataset, Interactions\n",
    "from rectools.metrics import calc_metrics, Precision, Recall, Serendipity, MeanInvUserFreq, MAP, NDCG\n",
    "from rectools.models import PopularModel, RandomModel"
   ]
  },
  {
   "cell_type": "code",
   "execution_count": 23,
   "metadata": {},
   "outputs": [],
   "source": [
    "intdataset = pd.read_csv(\"interactions.csv\")\n",
    "item_dataset = pd.read_csv(\"items.csv\")"
   ]
  },
  {
   "cell_type": "code",
   "execution_count": 4,
   "metadata": {},
   "outputs": [
    {
     "name": "stdout",
     "output_type": "stream",
     "text": [
      "['user_id', 'item_id', 'weight', 'datetime']\n"
     ]
    },
    {
     "data": {
      "text/html": [
       "<div>\n",
       "<style scoped>\n",
       "    .dataframe tbody tr th:only-of-type {\n",
       "        vertical-align: middle;\n",
       "    }\n",
       "\n",
       "    .dataframe tbody tr th {\n",
       "        vertical-align: top;\n",
       "    }\n",
       "\n",
       "    .dataframe thead th {\n",
       "        text-align: right;\n",
       "    }\n",
       "</style>\n",
       "<table border=\"1\" class=\"dataframe\">\n",
       "  <thead>\n",
       "    <tr style=\"text-align: right;\">\n",
       "      <th></th>\n",
       "      <th>user_id</th>\n",
       "      <th>item_id</th>\n",
       "      <th>last_watch_dt</th>\n",
       "      <th>total_dur</th>\n",
       "      <th>watched_pct</th>\n",
       "    </tr>\n",
       "  </thead>\n",
       "  <tbody>\n",
       "    <tr>\n",
       "      <th>0</th>\n",
       "      <td>176549</td>\n",
       "      <td>9506</td>\n",
       "      <td>2021-05-11</td>\n",
       "      <td>4250</td>\n",
       "      <td>72.0</td>\n",
       "    </tr>\n",
       "    <tr>\n",
       "      <th>1</th>\n",
       "      <td>699317</td>\n",
       "      <td>1659</td>\n",
       "      <td>2021-05-29</td>\n",
       "      <td>8317</td>\n",
       "      <td>100.0</td>\n",
       "    </tr>\n",
       "    <tr>\n",
       "      <th>2</th>\n",
       "      <td>656683</td>\n",
       "      <td>7107</td>\n",
       "      <td>2021-05-09</td>\n",
       "      <td>10</td>\n",
       "      <td>0.0</td>\n",
       "    </tr>\n",
       "    <tr>\n",
       "      <th>3</th>\n",
       "      <td>864613</td>\n",
       "      <td>7638</td>\n",
       "      <td>2021-07-05</td>\n",
       "      <td>14483</td>\n",
       "      <td>100.0</td>\n",
       "    </tr>\n",
       "    <tr>\n",
       "      <th>4</th>\n",
       "      <td>964868</td>\n",
       "      <td>9506</td>\n",
       "      <td>2021-04-30</td>\n",
       "      <td>6725</td>\n",
       "      <td>100.0</td>\n",
       "    </tr>\n",
       "  </tbody>\n",
       "</table>\n",
       "</div>"
      ],
      "text/plain": [
       "   user_id  item_id last_watch_dt  total_dur  watched_pct\n",
       "0   176549     9506    2021-05-11       4250         72.0\n",
       "1   699317     1659    2021-05-29       8317        100.0\n",
       "2   656683     7107    2021-05-09         10          0.0\n",
       "3   864613     7638    2021-07-05      14483        100.0\n",
       "4   964868     9506    2021-04-30       6725        100.0"
      ]
     },
     "execution_count": 4,
     "metadata": {},
     "output_type": "execute_result"
    }
   ],
   "source": [
    "names=[Columns.User, Columns.Item, Columns.Weight, Columns.Datetime]\n",
    "print(names)\n",
    "intdataset.head()\n"
   ]
  },
  {
   "cell_type": "code",
   "execution_count": 37,
   "metadata": {},
   "outputs": [],
   "source": [
    "intdataset = intdataset.rename(columns={\"total_dur\":\"weight\",\"last_watch_dt\":\"datetime\"})"
   ]
  },
  {
   "cell_type": "code",
   "execution_count": 38,
   "metadata": {},
   "outputs": [
    {
     "data": {
      "text/html": [
       "<div>\n",
       "<style scoped>\n",
       "    .dataframe tbody tr th:only-of-type {\n",
       "        vertical-align: middle;\n",
       "    }\n",
       "\n",
       "    .dataframe tbody tr th {\n",
       "        vertical-align: top;\n",
       "    }\n",
       "\n",
       "    .dataframe thead th {\n",
       "        text-align: right;\n",
       "    }\n",
       "</style>\n",
       "<table border=\"1\" class=\"dataframe\">\n",
       "  <thead>\n",
       "    <tr style=\"text-align: right;\">\n",
       "      <th></th>\n",
       "      <th>user_id</th>\n",
       "      <th>item_id</th>\n",
       "      <th>datetime</th>\n",
       "      <th>weight</th>\n",
       "      <th>watched_pct</th>\n",
       "    </tr>\n",
       "  </thead>\n",
       "  <tbody>\n",
       "    <tr>\n",
       "      <th>0</th>\n",
       "      <td>176549</td>\n",
       "      <td>9506</td>\n",
       "      <td>2021-05-11</td>\n",
       "      <td>4250</td>\n",
       "      <td>72.0</td>\n",
       "    </tr>\n",
       "    <tr>\n",
       "      <th>1</th>\n",
       "      <td>699317</td>\n",
       "      <td>1659</td>\n",
       "      <td>2021-05-29</td>\n",
       "      <td>8317</td>\n",
       "      <td>100.0</td>\n",
       "    </tr>\n",
       "    <tr>\n",
       "      <th>2</th>\n",
       "      <td>656683</td>\n",
       "      <td>7107</td>\n",
       "      <td>2021-05-09</td>\n",
       "      <td>10</td>\n",
       "      <td>0.0</td>\n",
       "    </tr>\n",
       "    <tr>\n",
       "      <th>3</th>\n",
       "      <td>864613</td>\n",
       "      <td>7638</td>\n",
       "      <td>2021-07-05</td>\n",
       "      <td>14483</td>\n",
       "      <td>100.0</td>\n",
       "    </tr>\n",
       "    <tr>\n",
       "      <th>4</th>\n",
       "      <td>964868</td>\n",
       "      <td>9506</td>\n",
       "      <td>2021-04-30</td>\n",
       "      <td>6725</td>\n",
       "      <td>100.0</td>\n",
       "    </tr>\n",
       "  </tbody>\n",
       "</table>\n",
       "</div>"
      ],
      "text/plain": [
       "   user_id  item_id    datetime  weight  watched_pct\n",
       "0   176549     9506  2021-05-11    4250         72.0\n",
       "1   699317     1659  2021-05-29    8317        100.0\n",
       "2   656683     7107  2021-05-09      10          0.0\n",
       "3   864613     7638  2021-07-05   14483        100.0\n",
       "4   964868     9506  2021-04-30    6725        100.0"
      ]
     },
     "execution_count": 38,
     "metadata": {},
     "output_type": "execute_result"
    }
   ],
   "source": [
    "intdataset.head()"
   ]
  },
  {
   "cell_type": "code",
   "execution_count": 7,
   "metadata": {},
   "outputs": [],
   "source": [
    "dataset0 = Interactions(intdataset)"
   ]
  },
  {
   "cell_type": "code",
   "execution_count": 8,
   "metadata": {},
   "outputs": [],
   "source": [
    "n_splits = 3\n",
    "\n",
    "cv = TimeRangeSplitter(\n",
    "    test_size=\"14D\",\n",
    "    n_splits=n_splits,\n",
    "    filter_already_seen=True,\n",
    "    filter_cold_items=True,\n",
    "    filter_cold_users=True,\n",
    ")\n",
    "models = {\n",
    "    \"random\": RandomModel(random_state=42),\n",
    "    \"popular\": PopularModel()\n",
    "}\n",
    "\n",
    "metrics = {\n",
    "    \"precision\": Precision(k=10),\n",
    "    \"recall\": Recall(k=10),\n",
    "    \"novelty\": MeanInvUserFreq(k=10),\n",
    "    \"serendipity\": Serendipity(k=10),\n",
    "    \"MAP@1\": MAP(k=1),\n",
    "    \"MAP@5\": MAP(k=5),\n",
    "    \"MAP@10\": MAP(k=10),\n",
    "    'NDCG@10': NDCG(k=10)\n",
    "}"
   ]
  },
  {
   "cell_type": "code",
   "execution_count": 9,
   "metadata": {},
   "outputs": [],
   "source": [
    "def crossvalidation(models,metrics,cv,qrek):\n",
    "    results = []\n",
    "\n",
    "    fold_iterator = cv.split(dataset0, collect_fold_stats=True)\n",
    "\n",
    "    for train_ids, test_ids, fold_info in fold_iterator:\n",
    "        print(f\"\\n==================== Fold {fold_info['i_split']}\")\n",
    "\n",
    "        df_train = dataset0.df.iloc[train_ids]\n",
    "        dataset = Dataset.construct(df_train)\n",
    "\n",
    "        df_test = dataset0.df.iloc[test_ids][Columns.UserItem]\n",
    "        test_users = np.unique(df_test[Columns.User])\n",
    "\n",
    "        # Catalog is set of items that we recommend.\n",
    "        # Sometimes we recommend not all items from train.\n",
    "        catalog = df_train[Columns.Item].unique()\n",
    "\n",
    "        for model_name, model in models.items():\n",
    "            model.fit(dataset)\n",
    "            recos = model.recommend(\n",
    "                users=test_users,\n",
    "                dataset=dataset,\n",
    "                k=qrek,\n",
    "                filter_viewed=True,\n",
    "            )\n",
    "            metric_values = calc_metrics(\n",
    "                metrics,\n",
    "                reco=recos,\n",
    "                interactions=df_test,\n",
    "                prev_interactions=df_train,\n",
    "                catalog=catalog,\n",
    "            )\n",
    "            res = {\"fold\": fold_info[\"i_split\"], \"model\": model_name}\n",
    "            res.update(metric_values)\n",
    "            results.append(res)\n",
    "    fincross = pd.DataFrame(results)\n",
    "    crossdata = fincross.groupby(\"model\")[list(metrics.keys())].mean()\n",
    "    return crossdata"
   ]
  },
  {
   "cell_type": "code",
   "execution_count": 10,
   "metadata": {},
   "outputs": [
    {
     "name": "stdout",
     "output_type": "stream",
     "text": [
      "\n",
      "==================== Fold 0\n",
      "\n",
      "==================== Fold 1\n",
      "\n",
      "==================== Fold 2\n"
     ]
    }
   ],
   "source": [
    "resultcross = crossvalidation(models,metrics,cv,10)"
   ]
  },
  {
   "cell_type": "code",
   "execution_count": 15,
   "metadata": {},
   "outputs": [
    {
     "data": {
      "text/plain": [
       "<rectools.models.popular.PopularModel at 0x22583aabc10>"
      ]
     },
     "execution_count": 15,
     "metadata": {},
     "output_type": "execute_result"
    }
   ],
   "source": [
    "model = PopularModel()\n",
    "dataset = Dataset.construct(intdataset) \n",
    "model.fit(dataset)"
   ]
  },
  {
   "cell_type": "code",
   "execution_count": 40,
   "metadata": {},
   "outputs": [],
   "source": [
    "def visialanaliz(model,dataset_interactions,user_ids,item_data):\n",
    "    dataset = Dataset.construct(dataset_interactions)\n",
    "    model_recomends = model.recommend(users = user_ids, dataset = dataset, k = 10, filter_viewed = True)\n",
    "    dataset_interactions_merge = dataset_interactions.merge(item_data, on = \"item_id\")\n",
    "    model_recomends_merge = model_recomends.merge(item_data, on = \"item_id\")\n",
    "    for user in user_ids:\n",
    "        print(user)\n",
    "        print(dataset_interactions_merge[dataset_interactions_merge[\"user_id\"] == user][[\"datetime\",\"title\",\"genres\"]].sort_values(by = \"datetime\"))\n",
    "        print(model_recomends_merge[model_recomends_merge[\"user_id\"] == user][[\"title\",\"genres\"]])\n",
    "        print()\n"
   ]
  },
  {
   "cell_type": "code",
   "execution_count": 41,
   "metadata": {},
   "outputs": [
    {
     "name": "stdout",
     "output_type": "stream",
     "text": [
      "666262\n",
      "           datetime              title                                 genres\n",
      "4612573  2021-05-12   Последний викинг     боевики, историческое, приключения\n",
      "4907745  2021-05-12  Робин Гуд: Начало         боевики, триллеры, приключения\n",
      "1645045  2021-05-14            Томирис  боевики, драмы, историческое, военные\n",
      "                           title                       genres\n",
      "0                    Хрустальный          триллеры, детективы\n",
      "3                Клиника счастья             драмы, мелодрамы\n",
      "6              Гнев человеческий            боевики, триллеры\n",
      "9                       Девятаев  драмы, военные, приключения\n",
      "12        Секреты семейной жизни                      комедии\n",
      "15  Прабабушка легкого поведения                      комедии\n",
      "18                    Подслушано              драмы, триллеры\n",
      "21                         Афера                      комедии\n",
      "24                          Маша              драмы, триллеры\n",
      "27                         Дуров               документальное\n",
      "\n",
      "672861\n",
      "           datetime                 title                       genres\n",
      "1937844  2021-04-27  Красавица и чудовище  драмы, фэнтези, музыкальные\n",
      "4029520  2021-05-04           Он – дракон                      фэнтези\n",
      "                           title                       genres\n",
      "1                    Хрустальный          триллеры, детективы\n",
      "4                Клиника счастья             драмы, мелодрамы\n",
      "7              Гнев человеческий            боевики, триллеры\n",
      "10                      Девятаев  драмы, военные, приключения\n",
      "13        Секреты семейной жизни                      комедии\n",
      "16  Прабабушка легкого поведения                      комедии\n",
      "19                    Подслушано              драмы, триллеры\n",
      "22                         Афера                      комедии\n",
      "25                          Маша              драмы, триллеры\n",
      "28                         Дуров               документальное\n",
      "\n",
      "955527\n",
      "           datetime                           title  \\\n",
      "3398366  2021-05-04          Пеле: Рождение легенды   \n",
      "1626488  2021-06-02            Лобановский навсегда   \n",
      "3420536  2021-06-02  Стань легендой! Бигфут Младший   \n",
      "3862702  2021-06-02                  Диего Марадона   \n",
      "\n",
      "                                            genres  \n",
      "3398366                    драмы, спорт, биография  \n",
      "1626488           спорт, биография, документальное  \n",
      "3420536  мультфильм, фэнтези, приключения, комедии  \n",
      "3862702           спорт, биография, документальное  \n",
      "                           title                       genres\n",
      "2                    Хрустальный          триллеры, детективы\n",
      "5                Клиника счастья             драмы, мелодрамы\n",
      "8              Гнев человеческий            боевики, триллеры\n",
      "11                      Девятаев  драмы, военные, приключения\n",
      "14        Секреты семейной жизни                      комедии\n",
      "17  Прабабушка легкого поведения                      комедии\n",
      "20                    Подслушано              драмы, триллеры\n",
      "23                         Афера                      комедии\n",
      "26                          Маша              драмы, триллеры\n",
      "29                         Дуров               документальное\n",
      "\n"
     ]
    }
   ],
   "source": [
    "visialanaliz(model,intdataset,[666262, 672861, 955527],item_dataset)"
   ]
  }
 ],
 "metadata": {
  "kernelspec": {
   "display_name": "Python 3 (ipykernel)",
   "language": "python",
   "name": "python3"
  },
  "language_info": {
   "codemirror_mode": {
    "name": "ipython",
    "version": 3
   },
   "file_extension": ".py",
   "mimetype": "text/x-python",
   "name": "python",
   "nbconvert_exporter": "python",
   "pygments_lexer": "ipython3",
   "version": "3.9.7"
  }
 },
 "nbformat": 4,
 "nbformat_minor": 2
}